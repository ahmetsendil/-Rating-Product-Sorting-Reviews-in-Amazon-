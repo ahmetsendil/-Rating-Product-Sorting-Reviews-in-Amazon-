{
 "cells": [
  {
   "cell_type": "code",
   "execution_count": 1,
   "id": "09e05d11",
   "metadata": {
    "_cell_guid": "b1076dfc-b9ad-4769-8c92-a6c4dae69d19",
    "_uuid": "8f2839f25d086af736a60e9eeb907d3b93b6e0e5",
    "execution": {
     "iopub.execute_input": "2025-02-25T15:37:29.449039Z",
     "iopub.status.busy": "2025-02-25T15:37:29.448544Z",
     "iopub.status.idle": "2025-02-25T15:37:30.507744Z",
     "shell.execute_reply": "2025-02-25T15:37:30.506368Z"
    },
    "papermill": {
     "duration": 1.06648,
     "end_time": "2025-02-25T15:37:30.509764",
     "exception": false,
     "start_time": "2025-02-25T15:37:29.443284",
     "status": "completed"
    },
    "tags": []
   },
   "outputs": [
    {
     "name": "stdout",
     "output_type": "stream",
     "text": [
      "/kaggle/input/amazon-reviews-data-set/amazon_review.csv\n"
     ]
    }
   ],
   "source": [
    "# This Python 3 environment comes with many helpful analytics libraries installed\n",
    "# It is defined by the kaggle/python Docker image: https://github.com/kaggle/docker-python\n",
    "# For example, here's several helpful packages to load\n",
    "\n",
    "import numpy as np # linear algebra\n",
    "import pandas as pd # data processing, CSV file I/O (e.g. pd.read_csv)\n",
    "\n",
    "# Input data files are available in the read-only \"../input/\" directory\n",
    "# For example, running this (by clicking run or pressing Shift+Enter) will list all files under the input directory\n",
    "\n",
    "import os\n",
    "for dirname, _, filenames in os.walk('/kaggle/input'):\n",
    "    for filename in filenames:\n",
    "        print(os.path.join(dirname, filename))\n",
    "\n",
    "# You can write up to 20GB to the current directory (/kaggle/working/) that gets preserved as output when you create a version using \"Save & Run All\" \n",
    "# You can also write temporary files to /kaggle/temp/, but they won't be saved outside of the current session"
   ]
  },
  {
   "cell_type": "code",
   "execution_count": 2,
   "id": "40cb1388",
   "metadata": {
    "execution": {
     "iopub.execute_input": "2025-02-25T15:37:30.517773Z",
     "iopub.status.busy": "2025-02-25T15:37:30.517287Z",
     "iopub.status.idle": "2025-02-25T15:37:32.101357Z",
     "shell.execute_reply": "2025-02-25T15:37:32.100216Z"
    },
    "papermill": {
     "duration": 1.58996,
     "end_time": "2025-02-25T15:37:32.103321",
     "exception": false,
     "start_time": "2025-02-25T15:37:30.513361",
     "status": "completed"
    },
    "tags": []
   },
   "outputs": [],
   "source": [
    "import pandas as pd\n",
    "import math\n",
    "import scipy.stats as st\n",
    "from sklearn.preprocessing import MinMaxScaler\n",
    "\n",
    "pd.set_option('display.max_columns', None)\n",
    "pd.set_option('display.max_rows', None)\n",
    "pd.set_option('display.width', 500)\n",
    "pd.set_option('display.expand_frame_repr', False)\n",
    "pd.set_option('display.float_format', lambda x: '%.5f' % x)"
   ]
  },
  {
   "cell_type": "code",
   "execution_count": 3,
   "id": "8b452bec",
   "metadata": {
    "execution": {
     "iopub.execute_input": "2025-02-25T15:37:32.111339Z",
     "iopub.status.busy": "2025-02-25T15:37:32.110790Z",
     "iopub.status.idle": "2025-02-25T15:37:32.227042Z",
     "shell.execute_reply": "2025-02-25T15:37:32.225957Z"
    },
    "papermill": {
     "duration": 0.122365,
     "end_time": "2025-02-25T15:37:32.229165",
     "exception": false,
     "start_time": "2025-02-25T15:37:32.106800",
     "status": "completed"
    },
    "tags": []
   },
   "outputs": [
    {
     "data": {
      "text/html": [
       "<div>\n",
       "<style scoped>\n",
       "    .dataframe tbody tr th:only-of-type {\n",
       "        vertical-align: middle;\n",
       "    }\n",
       "\n",
       "    .dataframe tbody tr th {\n",
       "        vertical-align: top;\n",
       "    }\n",
       "\n",
       "    .dataframe thead th {\n",
       "        text-align: right;\n",
       "    }\n",
       "</style>\n",
       "<table border=\"1\" class=\"dataframe\">\n",
       "  <thead>\n",
       "    <tr style=\"text-align: right;\">\n",
       "      <th></th>\n",
       "      <th>reviewerID</th>\n",
       "      <th>asin</th>\n",
       "      <th>reviewerName</th>\n",
       "      <th>helpful</th>\n",
       "      <th>reviewText</th>\n",
       "      <th>overall</th>\n",
       "      <th>summary</th>\n",
       "      <th>unixReviewTime</th>\n",
       "      <th>reviewTime</th>\n",
       "      <th>day_diff</th>\n",
       "      <th>helpful_yes</th>\n",
       "      <th>total_vote</th>\n",
       "    </tr>\n",
       "  </thead>\n",
       "  <tbody>\n",
       "    <tr>\n",
       "      <th>0</th>\n",
       "      <td>A3SBTW3WS4IQSN</td>\n",
       "      <td>B007WTAJTO</td>\n",
       "      <td>NaN</td>\n",
       "      <td>[0, 0]</td>\n",
       "      <td>No issues.</td>\n",
       "      <td>4.00000</td>\n",
       "      <td>Four Stars</td>\n",
       "      <td>1406073600</td>\n",
       "      <td>2014-07-23</td>\n",
       "      <td>138</td>\n",
       "      <td>0</td>\n",
       "      <td>0</td>\n",
       "    </tr>\n",
       "    <tr>\n",
       "      <th>1</th>\n",
       "      <td>A18K1ODH1I2MVB</td>\n",
       "      <td>B007WTAJTO</td>\n",
       "      <td>0mie</td>\n",
       "      <td>[0, 0]</td>\n",
       "      <td>Purchased this for my device, it worked as adv...</td>\n",
       "      <td>5.00000</td>\n",
       "      <td>MOAR SPACE!!!</td>\n",
       "      <td>1382659200</td>\n",
       "      <td>2013-10-25</td>\n",
       "      <td>409</td>\n",
       "      <td>0</td>\n",
       "      <td>0</td>\n",
       "    </tr>\n",
       "    <tr>\n",
       "      <th>2</th>\n",
       "      <td>A2FII3I2MBMUIA</td>\n",
       "      <td>B007WTAJTO</td>\n",
       "      <td>1K3</td>\n",
       "      <td>[0, 0]</td>\n",
       "      <td>it works as expected. I should have sprung for...</td>\n",
       "      <td>4.00000</td>\n",
       "      <td>nothing to really say....</td>\n",
       "      <td>1356220800</td>\n",
       "      <td>2012-12-23</td>\n",
       "      <td>715</td>\n",
       "      <td>0</td>\n",
       "      <td>0</td>\n",
       "    </tr>\n",
       "    <tr>\n",
       "      <th>3</th>\n",
       "      <td>A3H99DFEG68SR</td>\n",
       "      <td>B007WTAJTO</td>\n",
       "      <td>1m2</td>\n",
       "      <td>[0, 0]</td>\n",
       "      <td>This think has worked out great.Had a diff. br...</td>\n",
       "      <td>5.00000</td>\n",
       "      <td>Great buy at this price!!!  *** UPDATE</td>\n",
       "      <td>1384992000</td>\n",
       "      <td>2013-11-21</td>\n",
       "      <td>382</td>\n",
       "      <td>0</td>\n",
       "      <td>0</td>\n",
       "    </tr>\n",
       "    <tr>\n",
       "      <th>4</th>\n",
       "      <td>A375ZM4U047O79</td>\n",
       "      <td>B007WTAJTO</td>\n",
       "      <td>2&amp;amp;1/2Men</td>\n",
       "      <td>[0, 0]</td>\n",
       "      <td>Bought it with Retail Packaging, arrived legit...</td>\n",
       "      <td>5.00000</td>\n",
       "      <td>best deal around</td>\n",
       "      <td>1373673600</td>\n",
       "      <td>2013-07-13</td>\n",
       "      <td>513</td>\n",
       "      <td>0</td>\n",
       "      <td>0</td>\n",
       "    </tr>\n",
       "  </tbody>\n",
       "</table>\n",
       "</div>"
      ],
      "text/plain": [
       "       reviewerID        asin  reviewerName helpful                                         reviewText  overall                                 summary  unixReviewTime  reviewTime  day_diff  helpful_yes  total_vote\n",
       "0  A3SBTW3WS4IQSN  B007WTAJTO           NaN  [0, 0]                                         No issues.  4.00000                              Four Stars      1406073600  2014-07-23       138            0           0\n",
       "1  A18K1ODH1I2MVB  B007WTAJTO          0mie  [0, 0]  Purchased this for my device, it worked as adv...  5.00000                           MOAR SPACE!!!      1382659200  2013-10-25       409            0           0\n",
       "2  A2FII3I2MBMUIA  B007WTAJTO           1K3  [0, 0]  it works as expected. I should have sprung for...  4.00000               nothing to really say....      1356220800  2012-12-23       715            0           0\n",
       "3   A3H99DFEG68SR  B007WTAJTO           1m2  [0, 0]  This think has worked out great.Had a diff. br...  5.00000  Great buy at this price!!!  *** UPDATE      1384992000  2013-11-21       382            0           0\n",
       "4  A375ZM4U047O79  B007WTAJTO  2&amp;1/2Men  [0, 0]  Bought it with Retail Packaging, arrived legit...  5.00000                        best deal around      1373673600  2013-07-13       513            0           0"
      ]
     },
     "execution_count": 3,
     "metadata": {},
     "output_type": "execute_result"
    }
   ],
   "source": [
    "df = pd.read_csv(\"/kaggle/input/amazon-reviews-data-set/amazon_review.csv\")\n",
    "df.head()"
   ]
  },
  {
   "cell_type": "code",
   "execution_count": 4,
   "id": "e620e62a",
   "metadata": {
    "execution": {
     "iopub.execute_input": "2025-02-25T15:37:32.237093Z",
     "iopub.status.busy": "2025-02-25T15:37:32.236708Z",
     "iopub.status.idle": "2025-02-25T15:37:32.243086Z",
     "shell.execute_reply": "2025-02-25T15:37:32.241990Z"
    },
    "papermill": {
     "duration": 0.012094,
     "end_time": "2025-02-25T15:37:32.244731",
     "exception": false,
     "start_time": "2025-02-25T15:37:32.232637",
     "status": "completed"
    },
    "tags": []
   },
   "outputs": [
    {
     "data": {
      "text/plain": [
       "(4915, 12)"
      ]
     },
     "execution_count": 4,
     "metadata": {},
     "output_type": "execute_result"
    }
   ],
   "source": [
    "df.shape"
   ]
  },
  {
   "cell_type": "code",
   "execution_count": 5,
   "id": "42db51d8",
   "metadata": {
    "execution": {
     "iopub.execute_input": "2025-02-25T15:37:32.252857Z",
     "iopub.status.busy": "2025-02-25T15:37:32.252469Z",
     "iopub.status.idle": "2025-02-25T15:37:32.260098Z",
     "shell.execute_reply": "2025-02-25T15:37:32.259019Z"
    },
    "papermill": {
     "duration": 0.01362,
     "end_time": "2025-02-25T15:37:32.261808",
     "exception": false,
     "start_time": "2025-02-25T15:37:32.248188",
     "status": "completed"
    },
    "tags": []
   },
   "outputs": [
    {
     "data": {
      "text/plain": [
       "4.587589013224822"
      ]
     },
     "execution_count": 5,
     "metadata": {},
     "output_type": "execute_result"
    }
   ],
   "source": [
    "df['overall'].mean()"
   ]
  },
  {
   "cell_type": "code",
   "execution_count": 6,
   "id": "455ed163",
   "metadata": {
    "execution": {
     "iopub.execute_input": "2025-02-25T15:37:32.270172Z",
     "iopub.status.busy": "2025-02-25T15:37:32.269791Z",
     "iopub.status.idle": "2025-02-25T15:37:32.276522Z",
     "shell.execute_reply": "2025-02-25T15:37:32.275267Z"
    },
    "papermill": {
     "duration": 0.013194,
     "end_time": "2025-02-25T15:37:32.278592",
     "exception": false,
     "start_time": "2025-02-25T15:37:32.265398",
     "status": "completed"
    },
    "tags": []
   },
   "outputs": [
    {
     "data": {
      "text/plain": [
       "437.3670396744659"
      ]
     },
     "execution_count": 6,
     "metadata": {},
     "output_type": "execute_result"
    }
   ],
   "source": [
    "df[\"day_diff\"].mean()"
   ]
  },
  {
   "cell_type": "code",
   "execution_count": 7,
   "id": "174c8900",
   "metadata": {
    "execution": {
     "iopub.execute_input": "2025-02-25T15:37:32.287205Z",
     "iopub.status.busy": "2025-02-25T15:37:32.286767Z",
     "iopub.status.idle": "2025-02-25T15:37:32.327014Z",
     "shell.execute_reply": "2025-02-25T15:37:32.325662Z"
    },
    "papermill": {
     "duration": 0.046559,
     "end_time": "2025-02-25T15:37:32.328800",
     "exception": false,
     "start_time": "2025-02-25T15:37:32.282241",
     "status": "completed"
    },
    "tags": []
   },
   "outputs": [
    {
     "name": "stdout",
     "output_type": "stream",
     "text": [
      "<class 'pandas.core.frame.DataFrame'>\n",
      "RangeIndex: 4915 entries, 0 to 4914\n",
      "Data columns (total 13 columns):\n",
      " #   Column          Non-Null Count  Dtype         \n",
      "---  ------          --------------  -----         \n",
      " 0   reviewerID      4915 non-null   object        \n",
      " 1   asin            4915 non-null   object        \n",
      " 2   reviewerName    4914 non-null   object        \n",
      " 3   helpful         4915 non-null   object        \n",
      " 4   reviewText      4914 non-null   object        \n",
      " 5   overall         4915 non-null   float64       \n",
      " 6   summary         4915 non-null   object        \n",
      " 7   unixReviewTime  4915 non-null   int64         \n",
      " 8   reviewTime      4915 non-null   datetime64[ns]\n",
      " 9   day_diff        4915 non-null   int64         \n",
      " 10  helpful_yes     4915 non-null   int64         \n",
      " 11  total_vote      4915 non-null   int64         \n",
      " 12  days            4915 non-null   int64         \n",
      "dtypes: datetime64[ns](1), float64(1), int64(5), object(6)\n",
      "memory usage: 499.3+ KB\n"
     ]
    }
   ],
   "source": [
    "# Let's convert the 'reviewTime' column to datetime type:\n",
    "df[\"reviewTime\"] = pd.to_datetime(df[\"reviewTime\"])\n",
    "\n",
    "# Let's find the latest date in the dataset and determine the date two days later:\n",
    "max_date = df[\"reviewTime\"].max()\n",
    "current_date = max_date + pd.Timedelta(days=2)\n",
    "\n",
    "# Let's calculate the difference in days:\n",
    "df[\"days\"] = (current_date - df[\"reviewTime\"]).dt.days\n",
    "\n",
    "df.info()"
   ]
  },
  {
   "cell_type": "code",
   "execution_count": 8,
   "id": "18ff0839",
   "metadata": {
    "execution": {
     "iopub.execute_input": "2025-02-25T15:37:32.337536Z",
     "iopub.status.busy": "2025-02-25T15:37:32.337132Z",
     "iopub.status.idle": "2025-02-25T15:37:32.351927Z",
     "shell.execute_reply": "2025-02-25T15:37:32.350812Z"
    },
    "papermill": {
     "duration": 0.021375,
     "end_time": "2025-02-25T15:37:32.353914",
     "exception": false,
     "start_time": "2025-02-25T15:37:32.332539",
     "status": "completed"
    },
    "tags": []
   },
   "outputs": [
    {
     "data": {
      "text/plain": [
       "4.6987161061560725"
      ]
     },
     "execution_count": 8,
     "metadata": {},
     "output_type": "execute_result"
    }
   ],
   "source": [
    "# Let's calculate the weighted average rating:\n",
    "def time_based_weighted_average(dataframe, w1=28, w2=26, w3=24, w4=22):\n",
    "    return dataframe.loc[dataframe[\"days\"] <= 30, \"overall\"].mean() * w1 / 100 + \\\n",
    "           dataframe.loc[(dataframe[\"days\"] > 30) & (dataframe[\"days\"] <= 90), \"overall\"].mean() * w2 / 100 + \\\n",
    "           dataframe.loc[(dataframe[\"days\"] > 90) & (dataframe[\"days\"] <= 180), \"overall\"].mean() * w3 / 100 + \\\n",
    "           dataframe.loc[(dataframe[\"days\"] > 180), \"overall\"].mean() * w4 / 100\n",
    "\n",
    "time_based_weighted_average(df)"
   ]
  },
  {
   "cell_type": "code",
   "execution_count": 9,
   "id": "2e7bee7b",
   "metadata": {
    "execution": {
     "iopub.execute_input": "2025-02-25T15:37:32.363754Z",
     "iopub.status.busy": "2025-02-25T15:37:32.363393Z",
     "iopub.status.idle": "2025-02-25T15:37:32.566991Z",
     "shell.execute_reply": "2025-02-25T15:37:32.565642Z"
    },
    "papermill": {
     "duration": 0.211525,
     "end_time": "2025-02-25T15:37:32.569535",
     "exception": false,
     "start_time": "2025-02-25T15:37:32.358010",
     "status": "completed"
    },
    "tags": []
   },
   "outputs": [
    {
     "name": "stdout",
     "output_type": "stream",
     "text": [
      "                                             reviewText  helpful_yes  helpful_no  total_vote  wilson_lower_bound\n",
      "2031  [[ UPDATE - 6/19/2014 ]]So my lovely wife boug...         1952          68        2020             0.95754\n",
      "3449  I have tested dozens of SDHC and micro-SDHC ca...         1428          77        1505             0.93652\n",
      "4212  NOTE:  please read the last update (scroll to ...         1568         126        1694             0.91214\n",
      "317   If your card gets hot enough to be painful, it...          422          73         495             0.81858\n",
      "4672  Sandisk announcement of the first 128GB micro ...           45           4          49             0.80811\n",
      "1835  Bought from BestBuy online the day it was anno...           60           8          68             0.78465\n",
      "3981  The last few days I have been diligently shopp...          112          27         139             0.73214\n",
      "3807  I bought this card to replace a lost 16 gig in...           22           3          25             0.70044\n",
      "4306  While I got this card as a \"deal of the day\" o...           51          14          65             0.67033\n",
      "4596  Hi:I ordered two card and they arrived the nex...           82          27         109             0.66359\n",
      "315   Bought this card to use with my Samsung Galaxy...           38          10          48             0.65741\n",
      "1465  I for one have not bought into Google's, or an...            7           0           7             0.64567\n",
      "1609  I have always been a sandisk guy.  This cards ...            7           0           7             0.64567\n",
      "4302  So I got this SD specifically for my GoPro Bla...           14           2          16             0.63977\n",
      "4072  I used this for my Samsung Galaxy Tab 2 7.0 . ...            6           0           6             0.60967\n",
      "1072  What more can I say? The 64GB micro SD works f...            5           0           5             0.56552\n",
      "2583  I bought this Class 10 SD card for my GoPro 3 ...            5           0           5             0.56552\n",
      "121   Update: providing an update with regard to San...            5           0           5             0.56552\n",
      "1142  As soon as I saw that this card was announced ...            5           0           5             0.56552\n",
      "1753  Puchased this card right after I received my S...            5           0           5             0.56552\n"
     ]
    }
   ],
   "source": [
    "# We will select the 20 reviews to be displayed on the product detail page.\n",
    "\n",
    "# Let's first create the helpful_no variable.:\n",
    "df['helpful_no'] = df['total_vote'] - df['helpful_yes']\n",
    "\n",
    "# Let's calculate the score_pos_neg_diff:\n",
    "df['score_pos_neg_diff'] = df['helpful_yes'] - df['helpful_no']\n",
    "\n",
    "# Let's calculate the score_average_rating:\n",
    "df['score_average_rating'] = df.apply(lambda x: x['helpful_yes'] / x['total_vote'] if x['total_vote'] > 0 else 0, axis=1)\n",
    "\n",
    "# Let's calculate the wilson_lower_bound:\n",
    "from scipy.stats import norm\n",
    "def wilson_lower_bound(helpful_yes, total_vote, confidence=0.95):\n",
    "    if total_vote == 0:\n",
    "        return 0\n",
    "    z = norm.ppf(1 - (1 - confidence) / 2)\n",
    "    phat = helpful_yes / total_vote\n",
    "    return (phat + z**2 / (2 * total_vote) - z * ((phat * (1 - phat) + z**2 / (4 * total_vote)) / total_vote)**0.5) / (1 + z**2 / total_vote)\n",
    "\n",
    "df['wilson_lower_bound'] = df.apply(lambda x: wilson_lower_bound(x['helpful_yes'], x['total_vote']), axis=1)\n",
    "\n",
    "# Let's calculate the wilson_lower_bound values and add them to the dataframe:\n",
    "top_20_reviews = df.sort_values(by='wilson_lower_bound', ascending=False).head(20)\n",
    "\n",
    "# Let's see the results:\n",
    "print(top_20_reviews[['reviewText', 'helpful_yes', 'helpful_no', 'total_vote', 'wilson_lower_bound']])"
   ]
  }
 ],
 "metadata": {
  "kaggle": {
   "accelerator": "none",
   "dataSources": [
    {
     "datasetId": 6713527,
     "sourceId": 10813998,
     "sourceType": "datasetVersion"
    }
   ],
   "dockerImageVersionId": 30918,
   "isGpuEnabled": false,
   "isInternetEnabled": true,
   "language": "python",
   "sourceType": "notebook"
  },
  "kernelspec": {
   "display_name": "Python 3",
   "language": "python",
   "name": "python3"
  },
  "language_info": {
   "codemirror_mode": {
    "name": "ipython",
    "version": 3
   },
   "file_extension": ".py",
   "mimetype": "text/x-python",
   "name": "python",
   "nbconvert_exporter": "python",
   "pygments_lexer": "ipython3",
   "version": "3.10.12"
  },
  "papermill": {
   "default_parameters": {},
   "duration": 6.830069,
   "end_time": "2025-02-25T15:37:33.294208",
   "environment_variables": {},
   "exception": null,
   "input_path": "__notebook__.ipynb",
   "output_path": "__notebook__.ipynb",
   "parameters": {},
   "start_time": "2025-02-25T15:37:26.464139",
   "version": "2.6.0"
  }
 },
 "nbformat": 4,
 "nbformat_minor": 5
}
